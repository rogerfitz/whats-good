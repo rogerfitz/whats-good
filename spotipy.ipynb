{
 "cells": [
  {
   "cell_type": "code",
   "execution_count": 2,
   "metadata": {
    "collapsed": true
   },
   "outputs": [],
   "source": [
    "import spotipy"
   ]
  },
  {
   "cell_type": "code",
   "execution_count": 5,
   "metadata": {
    "collapsed": false
   },
   "outputs": [
    {
     "name": "stdout",
     "output_type": "stream",
     "text": [
      "  0 goosebumps\n",
      "  1 pick up the phone\n",
      "  2 Last Time (feat. Travis Scott)\n",
      "  3 through the late night\n",
      "  4 beibs in the trap\n",
      "  5 Antidote\n",
      "  6 pick up the phone\n",
      "  7 Baptized In Fire\n",
      "  8 wonderful\n",
      "  9 way back\n",
      "  10 Floyd Mayweather (feat. Travis Scott, Gucci Mane and Gunna)\n",
      "  11 Bake Sale (feat. Travis Scott)\n",
      "  12 coordinate\n",
      "  13 outside\n",
      "  14 lose\n",
      "  15 Uber Everywhere (feat. Travis Scott)\n",
      "  16 sweet sweet\n",
      "  17 Antidote\n",
      "  18 Champions\n",
      "  19 first take\n"
     ]
    }
   ],
   "source": [
    "sp = spotipy.Spotify()\n",
    "\n",
    "results = sp.search(q='travis scott', limit=20)\n",
    "for i, t in enumerate(results['tracks']['items']):\n",
    "    print ' ', i, t['name']"
   ]
  },
  {
   "cell_type": "code",
   "execution_count": 11,
   "metadata": {
    "collapsed": false
   },
   "outputs": [],
   "source": [
    "uri=results['tracks']['items'][0]['uri']"
   ]
  },
  {
   "cell_type": "code",
   "execution_count": 12,
   "metadata": {
    "collapsed": false
   },
   "outputs": [
    {
     "data": {
      "text/plain": [
       "u'\\n<iframe src=\"https://embed.spotify.com/?uri=spotify:track:6gBFPUFcJLzWGx4lenP6h2\" width=\"300\" height=\"380\" frameborder=\"0\" allowtransparency=\"true\"></iframe>\\n'"
      ]
     },
     "execution_count": 12,
     "metadata": {},
     "output_type": "execute_result"
    }
   ],
   "source": [
    "'''\n",
    "<iframe src=\"https://embed.spotify.com/?uri=%s\" width=\"300\" height=\"380\" frameborder=\"0\" allowtransparency=\"true\"></iframe>\n",
    "'''%uri"
   ]
  },
  {
   "cell_type": "code",
   "execution_count": null,
   "metadata": {
    "collapsed": true
   },
   "outputs": [],
   "source": [
    ""
   ]
  }
 ],
 "metadata": {
  "anaconda-cloud": {},
  "kernelspec": {
   "display_name": "Python [py2]",
   "language": "python",
   "name": "Python [py2]"
  },
  "language_info": {
   "codemirror_mode": {
    "name": "ipython",
    "version": 2.0
   },
   "file_extension": ".py",
   "mimetype": "text/x-python",
   "name": "python",
   "nbconvert_exporter": "python",
   "pygments_lexer": "ipython2",
   "version": "2.7.11"
  }
 },
 "nbformat": 4,
 "nbformat_minor": 0
}